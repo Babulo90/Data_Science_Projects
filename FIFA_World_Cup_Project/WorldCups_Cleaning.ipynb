{
 "cells": [
  {
   "cell_type": "code",
   "execution_count": 2,
   "id": "183b43cf-1ea9-4b6d-9a53-4d068d8ccbfb",
   "metadata": {},
   "outputs": [
    {
     "data": {
      "text/html": [
       "<div>\n",
       "<style scoped>\n",
       "    .dataframe tbody tr th:only-of-type {\n",
       "        vertical-align: middle;\n",
       "    }\n",
       "\n",
       "    .dataframe tbody tr th {\n",
       "        vertical-align: top;\n",
       "    }\n",
       "\n",
       "    .dataframe thead th {\n",
       "        text-align: right;\n",
       "    }\n",
       "</style>\n",
       "<table border=\"1\" class=\"dataframe\">\n",
       "  <thead>\n",
       "    <tr style=\"text-align: right;\">\n",
       "      <th></th>\n",
       "      <th>Year</th>\n",
       "      <th>Country</th>\n",
       "      <th>Winner</th>\n",
       "      <th>Runners-Up</th>\n",
       "      <th>Third</th>\n",
       "      <th>Fourth</th>\n",
       "      <th>GoalsScored</th>\n",
       "      <th>QualifiedTeams</th>\n",
       "      <th>MatchesPlayed</th>\n",
       "      <th>Attendance</th>\n",
       "    </tr>\n",
       "  </thead>\n",
       "  <tbody>\n",
       "    <tr>\n",
       "      <th>0</th>\n",
       "      <td>1930</td>\n",
       "      <td>Uruguay</td>\n",
       "      <td>Uruguay</td>\n",
       "      <td>Argentina</td>\n",
       "      <td>USA</td>\n",
       "      <td>Yugoslavia</td>\n",
       "      <td>70</td>\n",
       "      <td>13</td>\n",
       "      <td>18</td>\n",
       "      <td>590.549</td>\n",
       "    </tr>\n",
       "    <tr>\n",
       "      <th>1</th>\n",
       "      <td>1934</td>\n",
       "      <td>Italy</td>\n",
       "      <td>Italy</td>\n",
       "      <td>Czechoslovakia</td>\n",
       "      <td>Germany</td>\n",
       "      <td>Austria</td>\n",
       "      <td>70</td>\n",
       "      <td>16</td>\n",
       "      <td>17</td>\n",
       "      <td>363.000</td>\n",
       "    </tr>\n",
       "    <tr>\n",
       "      <th>2</th>\n",
       "      <td>1938</td>\n",
       "      <td>France</td>\n",
       "      <td>Italy</td>\n",
       "      <td>Hungary</td>\n",
       "      <td>Brazil</td>\n",
       "      <td>Sweden</td>\n",
       "      <td>84</td>\n",
       "      <td>15</td>\n",
       "      <td>18</td>\n",
       "      <td>375.700</td>\n",
       "    </tr>\n",
       "    <tr>\n",
       "      <th>3</th>\n",
       "      <td>1950</td>\n",
       "      <td>Brazil</td>\n",
       "      <td>Uruguay</td>\n",
       "      <td>Brazil</td>\n",
       "      <td>Sweden</td>\n",
       "      <td>Spain</td>\n",
       "      <td>88</td>\n",
       "      <td>13</td>\n",
       "      <td>22</td>\n",
       "      <td>1.045.246</td>\n",
       "    </tr>\n",
       "    <tr>\n",
       "      <th>4</th>\n",
       "      <td>1954</td>\n",
       "      <td>Switzerland</td>\n",
       "      <td>Germany FR</td>\n",
       "      <td>Hungary</td>\n",
       "      <td>Austria</td>\n",
       "      <td>Uruguay</td>\n",
       "      <td>140</td>\n",
       "      <td>16</td>\n",
       "      <td>26</td>\n",
       "      <td>768.607</td>\n",
       "    </tr>\n",
       "  </tbody>\n",
       "</table>\n",
       "</div>"
      ],
      "text/plain": [
       "   Year      Country      Winner      Runners-Up    Third      Fourth  \\\n",
       "0  1930      Uruguay     Uruguay       Argentina      USA  Yugoslavia   \n",
       "1  1934        Italy       Italy  Czechoslovakia  Germany     Austria   \n",
       "2  1938       France       Italy         Hungary   Brazil      Sweden   \n",
       "3  1950       Brazil     Uruguay          Brazil   Sweden       Spain   \n",
       "4  1954  Switzerland  Germany FR         Hungary  Austria     Uruguay   \n",
       "\n",
       "   GoalsScored  QualifiedTeams  MatchesPlayed Attendance  \n",
       "0           70              13             18    590.549  \n",
       "1           70              16             17    363.000  \n",
       "2           84              15             18    375.700  \n",
       "3           88              13             22  1.045.246  \n",
       "4          140              16             26    768.607  "
      ]
     },
     "execution_count": 2,
     "metadata": {},
     "output_type": "execute_result"
    }
   ],
   "source": [
    "import pandas as pd\n",
    "df = pd.read_csv(r\"C:\\Users\\tamal\\Documents\\Fifa_World_Cup_Project\\WorldCups.csv\")\n",
    "df.head()"
   ]
  },
  {
   "cell_type": "code",
   "execution_count": 7,
   "id": "256f4925-017b-492f-8595-9318865fa881",
   "metadata": {},
   "outputs": [
    {
     "data": {
      "text/plain": [
       "Year              0\n",
       "Country           0\n",
       "Winner            0\n",
       "Runners-Up        0\n",
       "Third             0\n",
       "Fourth            0\n",
       "GoalsScored       0\n",
       "QualifiedTeams    0\n",
       "MatchesPlayed     0\n",
       "Attendance        0\n",
       "dtype: int64"
      ]
     },
     "execution_count": 7,
     "metadata": {},
     "output_type": "execute_result"
    }
   ],
   "source": [
    "# Replace periods in Attendance and convert to numeric\n",
    "df['Attendance'] = df['Attendance'].astype(str).str.replace('.', '').astype(float)\n",
    "# Standardize country names\n",
    "df['Winner'] = df['Winner'].replace({\n",
    "    'Germany FR': 'West Germany',\n",
    "    'Czechoslovakia': 'Czech Republic'\n",
    "})\n",
    "df['Runners-Up'] = df['Runners-Up'].replace({\n",
    "    'Germany FR': 'West Germany',\n",
    "    'Czechoslovakia': 'Czech Republic'\n",
    "})\n",
    "df['Fourth'] = df['Fourth'].replace({\n",
    "    'Germany FR': 'West Germany',\n",
    "    'Czechoslovakia': 'Czech Republic'\n",
    "})\n",
    "df.isnull().sum()"
   ]
  },
  {
   "cell_type": "code",
   "execution_count": 15,
   "id": "3049e04c-25df-4ed9-bdce-6a5fff054448",
   "metadata": {},
   "outputs": [],
   "source": [
    "df.to_csv(\"Cleaned_WorldCups.csv\", index=False)"
   ]
  },
  {
   "cell_type": "code",
   "execution_count": null,
   "id": "0f5c622c-94a6-497b-9588-d0fd0e9ce4f6",
   "metadata": {},
   "outputs": [],
   "source": []
  }
 ],
 "metadata": {
  "kernelspec": {
   "display_name": "Python 3 (ipykernel)",
   "language": "python",
   "name": "python3"
  },
  "language_info": {
   "codemirror_mode": {
    "name": "ipython",
    "version": 3
   },
   "file_extension": ".py",
   "mimetype": "text/x-python",
   "name": "python",
   "nbconvert_exporter": "python",
   "pygments_lexer": "ipython3",
   "version": "3.12.4"
  }
 },
 "nbformat": 4,
 "nbformat_minor": 5
}
